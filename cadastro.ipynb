{
 "cells": [
  {
   "cell_type": "code",
   "execution_count": 1,
   "metadata": {},
   "outputs": [],
   "source": [
    "import pandas as pd"
   ]
  },
  {
   "cell_type": "code",
   "execution_count": 12,
   "metadata": {},
   "outputs": [
    {
     "data": {
      "text/html": [
       "<div>\n",
       "<style scoped>\n",
       "    .dataframe tbody tr th:only-of-type {\n",
       "        vertical-align: middle;\n",
       "    }\n",
       "\n",
       "    .dataframe tbody tr th {\n",
       "        vertical-align: top;\n",
       "    }\n",
       "\n",
       "    .dataframe thead th {\n",
       "        text-align: right;\n",
       "    }\n",
       "</style>\n",
       "<table border=\"1\" class=\"dataframe\">\n",
       "  <thead>\n",
       "    <tr style=\"text-align: right;\">\n",
       "      <th></th>\n",
       "      <th>SKU PRODUTO</th>\n",
       "      <th>DATA</th>\n",
       "      <th>SITUAÇÃO</th>\n",
       "      <th>Quem Fez</th>\n",
       "    </tr>\n",
       "  </thead>\n",
       "  <tbody>\n",
       "    <tr>\n",
       "      <th>0</th>\n",
       "      <td>291216</td>\n",
       "      <td>2024-04-02</td>\n",
       "      <td>Ok</td>\n",
       "      <td>Jaque</td>\n",
       "    </tr>\n",
       "    <tr>\n",
       "      <th>1</th>\n",
       "      <td>292609</td>\n",
       "      <td>2024-04-08</td>\n",
       "      <td>Ok</td>\n",
       "      <td>Jaque</td>\n",
       "    </tr>\n",
       "    <tr>\n",
       "      <th>2</th>\n",
       "      <td>293101</td>\n",
       "      <td>2024-04-02</td>\n",
       "      <td>Ok</td>\n",
       "      <td>Jaque</td>\n",
       "    </tr>\n",
       "    <tr>\n",
       "      <th>3</th>\n",
       "      <td>294372</td>\n",
       "      <td>2024-04-01</td>\n",
       "      <td>Cadastro atualizado</td>\n",
       "      <td>Jaque</td>\n",
       "    </tr>\n",
       "    <tr>\n",
       "      <th>4</th>\n",
       "      <td>203021</td>\n",
       "      <td>2024-04-01</td>\n",
       "      <td>Cadastro atualizado</td>\n",
       "      <td>Jaque</td>\n",
       "    </tr>\n",
       "  </tbody>\n",
       "</table>\n",
       "</div>"
      ],
      "text/plain": [
       "   SKU PRODUTO       DATA             SITUAÇÃO Quem Fez\n",
       "0       291216 2024-04-02                   Ok    Jaque\n",
       "1       292609 2024-04-08                   Ok    Jaque\n",
       "2       293101 2024-04-02                   Ok    Jaque\n",
       "3       294372 2024-04-01  Cadastro atualizado    Jaque\n",
       "4       203021 2024-04-01  Cadastro atualizado    Jaque"
      ]
     },
     "execution_count": 12,
     "metadata": {},
     "output_type": "execute_result"
    }
   ],
   "source": [
    "df = pd.read_excel(\"C:\\\\Users\\\\anton\\\\OneDrive\\\\Área de Trabalho\\\\Cadastro Abril.xlsx\")\n",
    "df.head()"
   ]
  },
  {
   "cell_type": "code",
   "execution_count": 13,
   "metadata": {},
   "outputs": [
    {
     "data": {
      "text/plain": [
       "894"
      ]
     },
     "execution_count": 13,
     "metadata": {},
     "output_type": "execute_result"
    }
   ],
   "source": [
    "df['Quem Fez'].count()"
   ]
  },
  {
   "cell_type": "code",
   "execution_count": 14,
   "metadata": {},
   "outputs": [
    {
     "data": {
      "text/plain": [
       "SITUAÇÃO\n",
       "Ok                     590\n",
       "Cadastro atualizado    304\n",
       "Name: count, dtype: int64"
      ]
     },
     "execution_count": 14,
     "metadata": {},
     "output_type": "execute_result"
    }
   ],
   "source": [
    "df['SITUAÇÃO'].value_counts()"
   ]
  },
  {
   "cell_type": "code",
   "execution_count": 15,
   "metadata": {},
   "outputs": [
    {
     "data": {
      "text/plain": [
       "Quem Fez\n",
       "Breno      264\n",
       "Maya       222\n",
       "Gabriel    180\n",
       "Jaque      141\n",
       "Douglas     87\n",
       "Name: count, dtype: int64"
      ]
     },
     "execution_count": 15,
     "metadata": {},
     "output_type": "execute_result"
    }
   ],
   "source": [
    "df['Quem Fez'].value_counts()"
   ]
  },
  {
   "cell_type": "code",
   "execution_count": 23,
   "metadata": {},
   "outputs": [
    {
     "name": "stdout",
     "output_type": "stream",
     "text": [
      "A Jaque cadastrou 75 produtos novos, atualizou o cadastro de 66 e o total de cadastros foi 141\n"
     ]
    }
   ],
   "source": [
    "jaque_ok = df[(df['Quem Fez'] == 'Jaque') & (df['SITUAÇÃO'] == 'Ok')].shape[0]\n",
    "jaque_ca = df[(df['Quem Fez'] == 'Jaque') & (df['SITUAÇÃO'] == 'Cadastro atualizado')].shape[0]\n",
    "total_jaque = jaque_ok + jaque_ca\n",
    "print(f'A Jaque cadastrou {jaque_ok} produtos novos, atualizou o cadastro de {jaque_ca} e o total de cadastros foi {total_jaque}')"
   ]
  },
  {
   "cell_type": "code",
   "execution_count": 24,
   "metadata": {},
   "outputs": [
    {
     "name": "stdout",
     "output_type": "stream",
     "text": [
      "O Brneo cadastrou 209 produtos novos, atualizou o cadastro de 55 e o total de cadastros foi 264\n"
     ]
    }
   ],
   "source": [
    "breno_ok = df[(df['Quem Fez'] == 'Breno') & (df['SITUAÇÃO'] == 'Ok')].shape[0]\n",
    "breno_ca = df[(df['Quem Fez'] == 'Breno') & (df['SITUAÇÃO'] == 'Cadastro atualizado')].shape[0]\n",
    "total_breno = breno_ok + breno_ca\n",
    "print(f'O Brneo cadastrou {breno_ok} produtos novos, atualizou o cadastro de {breno_ca} e o total de cadastros foi {total_breno}')"
   ]
  },
  {
   "cell_type": "code",
   "execution_count": 27,
   "metadata": {},
   "outputs": [
    {
     "name": "stdout",
     "output_type": "stream",
     "text": [
      "A Maya cadastrou 158 produtos novos, atualizou o cadastro de 64 e o total de cadastros foi 222\n"
     ]
    }
   ],
   "source": [
    "maya_ok = df[(df['Quem Fez'] == 'Maya') & (df['SITUAÇÃO'] == 'Ok')].shape[0]\n",
    "maya_ca = df[(df['Quem Fez'] == 'Maya') & (df['SITUAÇÃO'] == 'Cadastro atualizado')].shape[0]\n",
    "total_maya = maya_ok + maya_ca \n",
    "print(f'A Maya cadastrou {maya_ok} produtos novos, atualizou o cadastro de {maya_ca} e o total de cadastros foi {total_maya}')"
   ]
  },
  {
   "cell_type": "code",
   "execution_count": 29,
   "metadata": {},
   "outputs": [
    {
     "name": "stdout",
     "output_type": "stream",
     "text": [
      "O Gabriel cadastrou 88 produtos novos, atualizou o cadastro de 92 e o total de cadastros foi 180\n"
     ]
    }
   ],
   "source": [
    "gabriel_ok = df[(df['Quem Fez'] == 'Gabriel') & (df['SITUAÇÃO'] == 'Ok')].shape[0]\n",
    "gabriel_ca = df[(df['Quem Fez'] == 'Gabriel') & (df['SITUAÇÃO'] == 'Cadastro atualizado')].shape[0]\n",
    "total_gabriel = gabriel_ok + gabriel_ca\n",
    "print(f'O Gabriel cadastrou {gabriel_ok} produtos novos, atualizou o cadastro de {gabriel_ca} e o total de cadastros foi {total_gabriel}')"
   ]
  },
  {
   "cell_type": "code",
   "execution_count": 31,
   "metadata": {},
   "outputs": [
    {
     "name": "stdout",
     "output_type": "stream",
     "text": [
      "O Douglas cadastrou 60 produtos novos, atualizou o cadastro de 27 e o total de cadastros foi 87\n"
     ]
    }
   ],
   "source": [
    "douglas_ok = df[(df['Quem Fez'] == 'Douglas') & (df['SITUAÇÃO'] == 'Ok')].shape[0]\n",
    "douglas_ca = df[(df['Quem Fez'] == 'Douglas') & (df['SITUAÇÃO'] == 'Cadastro atualizado')].shape[0]\n",
    "total_douglas = douglas_ok + douglas_ca\n",
    "print(f'O Douglas cadastrou {douglas_ok} produtos novos, atualizou o cadastro de {douglas_ca} e o total de cadastros foi {total_douglas}')"
   ]
  },
  {
   "cell_type": "code",
   "execution_count": 46,
   "metadata": {},
   "outputs": [
    {
     "data": {
      "text/html": [
       "<div>\n",
       "<style scoped>\n",
       "    .dataframe tbody tr th:only-of-type {\n",
       "        vertical-align: middle;\n",
       "    }\n",
       "\n",
       "    .dataframe tbody tr th {\n",
       "        vertical-align: top;\n",
       "    }\n",
       "\n",
       "    .dataframe thead th {\n",
       "        text-align: right;\n",
       "    }\n",
       "</style>\n",
       "<table border=\"1\" class=\"dataframe\">\n",
       "  <thead>\n",
       "    <tr style=\"text-align: right;\">\n",
       "      <th></th>\n",
       "      <th>SITUAÇÃO</th>\n",
       "      <th>Quem Fez</th>\n",
       "    </tr>\n",
       "  </thead>\n",
       "  <tbody>\n",
       "    <tr>\n",
       "      <th>0</th>\n",
       "      <td>Ok</td>\n",
       "      <td>Jaque</td>\n",
       "    </tr>\n",
       "    <tr>\n",
       "      <th>1</th>\n",
       "      <td>Ok</td>\n",
       "      <td>Jaque</td>\n",
       "    </tr>\n",
       "    <tr>\n",
       "      <th>2</th>\n",
       "      <td>Ok</td>\n",
       "      <td>Jaque</td>\n",
       "    </tr>\n",
       "    <tr>\n",
       "      <th>3</th>\n",
       "      <td>Cadastro atualizado</td>\n",
       "      <td>Jaque</td>\n",
       "    </tr>\n",
       "    <tr>\n",
       "      <th>4</th>\n",
       "      <td>Cadastro atualizado</td>\n",
       "      <td>Jaque</td>\n",
       "    </tr>\n",
       "    <tr>\n",
       "      <th>...</th>\n",
       "      <td>...</td>\n",
       "      <td>...</td>\n",
       "    </tr>\n",
       "    <tr>\n",
       "      <th>889</th>\n",
       "      <td>Cadastro atualizado</td>\n",
       "      <td>Breno</td>\n",
       "    </tr>\n",
       "    <tr>\n",
       "      <th>890</th>\n",
       "      <td>Cadastro atualizado</td>\n",
       "      <td>Breno</td>\n",
       "    </tr>\n",
       "    <tr>\n",
       "      <th>891</th>\n",
       "      <td>Cadastro atualizado</td>\n",
       "      <td>Breno</td>\n",
       "    </tr>\n",
       "    <tr>\n",
       "      <th>892</th>\n",
       "      <td>Ok</td>\n",
       "      <td>Breno</td>\n",
       "    </tr>\n",
       "    <tr>\n",
       "      <th>893</th>\n",
       "      <td>Ok</td>\n",
       "      <td>Breno</td>\n",
       "    </tr>\n",
       "  </tbody>\n",
       "</table>\n",
       "<p>894 rows × 2 columns</p>\n",
       "</div>"
      ],
      "text/plain": [
       "                SITUAÇÃO Quem Fez\n",
       "0                     Ok    Jaque\n",
       "1                     Ok    Jaque\n",
       "2                     Ok    Jaque\n",
       "3    Cadastro atualizado    Jaque\n",
       "4    Cadastro atualizado    Jaque\n",
       "..                   ...      ...\n",
       "889  Cadastro atualizado    Breno\n",
       "890  Cadastro atualizado    Breno\n",
       "891  Cadastro atualizado    Breno\n",
       "892                   Ok    Breno\n",
       "893                   Ok    Breno\n",
       "\n",
       "[894 rows x 2 columns]"
      ]
     },
     "execution_count": 46,
     "metadata": {},
     "output_type": "execute_result"
    }
   ],
   "source": [
    "df[['SITUAÇÃO', 'Quem Fez']]"
   ]
  }
 ],
 "metadata": {
  "kernelspec": {
   "display_name": "Python 3",
   "language": "python",
   "name": "python3"
  },
  "language_info": {
   "codemirror_mode": {
    "name": "ipython",
    "version": 3
   },
   "file_extension": ".py",
   "mimetype": "text/x-python",
   "name": "python",
   "nbconvert_exporter": "python",
   "pygments_lexer": "ipython3",
   "version": "3.12.1"
  }
 },
 "nbformat": 4,
 "nbformat_minor": 2
}
